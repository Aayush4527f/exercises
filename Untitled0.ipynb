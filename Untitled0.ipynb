{
  "nbformat": 4,
  "nbformat_minor": 0,
  "metadata": {
    "colab": {
      "name": "Untitled0.ipynb",
      "provenance": [],
      "collapsed_sections": [],
      "toc_visible": true,
      "authorship_tag": "ABX9TyPGEhnPsu9Akvs8DUhLgJdp",
      "include_colab_link": true
    },
    "kernelspec": {
      "name": "python3",
      "display_name": "Python 3"
    },
    "language_info": {
      "name": "python"
    }
  },
  "cells": [
    {
      "cell_type": "markdown",
      "metadata": {
        "id": "view-in-github",
        "colab_type": "text"
      },
      "source": [
        "<a href=\"https://colab.research.google.com/github/Aayush4527f/exercises/blob/main/Untitled0.ipynb\" target=\"_parent\"><img src=\"https://colab.research.google.com/assets/colab-badge.svg\" alt=\"Open In Colab\"/></a>"
      ]
    },
    {
      "cell_type": "code",
      "metadata": {
        "colab": {
          "base_uri": "https://localhost:8080/"
        },
        "id": "sYXxXoal7ZsO",
        "outputId": "4dbdafd3-efa2-4a11-eb06-3fc8402def4c"
      },
      "source": [
        "!pip install mibian"
      ],
      "execution_count": 1,
      "outputs": [
        {
          "output_type": "stream",
          "name": "stdout",
          "text": [
            "Collecting mibian\n",
            "  Downloading mibian-0.1.3.zip (4.3 kB)\n",
            "Building wheels for collected packages: mibian\n",
            "  Building wheel for mibian (setup.py) ... \u001b[?25l\u001b[?25hdone\n",
            "  Created wheel for mibian: filename=mibian-0.1.3-py3-none-any.whl size=4039 sha256=655c12b571a3a156f9558756ba3c9730e0cc81a21e457639cb2f76c8595bf4ae\n",
            "  Stored in directory: /root/.cache/pip/wheels/ca/3a/ab/f8d47298bb8e265ab161962217a1b4c80b7e0a6bc0b2abdfc2\n",
            "Successfully built mibian\n",
            "Installing collected packages: mibian\n",
            "Successfully installed mibian-0.1.3\n"
          ]
        }
      ]
    },
    {
      "cell_type": "code",
      "metadata": {
        "id": "zByhORTb7jZA"
      },
      "source": [
        "from tabulate import tabulate"
      ],
      "execution_count": 3,
      "outputs": []
    },
    {
      "cell_type": "code",
      "metadata": {
        "id": "TNb_H8Yg731g"
      },
      "source": [
        "stock_price = 222.75"
      ],
      "execution_count": 4,
      "outputs": []
    },
    {
      "cell_type": "code",
      "metadata": {
        "colab": {
          "base_uri": "https://localhost:8080/"
        },
        "id": "ynEfwnq-86wb",
        "outputId": "15894709-6aa6-4e3b-ee4e-cfd3cc2161eb"
      },
      "source": [
        "strike_price = 230\n",
        "interest_rate = 10\n",
        "iv = 76.51\n",
        "print(strike_price)"
      ],
      "execution_count": 6,
      "outputs": [
        {
          "output_type": "stream",
          "name": "stdout",
          "text": [
            "230\n"
          ]
        }
      ]
    },
    {
      "cell_type": "code",
      "metadata": {
        "id": "dSO-nMGK9clB"
      },
      "source": [
        "expiry = 6\n"
      ],
      "execution_count": 7,
      "outputs": []
    },
    {
      "cell_type": "code",
      "metadata": {
        "colab": {
          "base_uri": "https://localhost:8080/"
        },
        "id": "b-xekw0_9u1q",
        "outputId": "58131efd-e420-4e16-828c-9a13f56aeb4a"
      },
      "source": [
        "print(strike_price,stock_price,iv,interest_rate,expiry)"
      ],
      "execution_count": 8,
      "outputs": [
        {
          "output_type": "stream",
          "name": "stdout",
          "text": [
            "230 222.75 76.51 10 6\n"
          ]
        }
      ]
    },
    {
      "cell_type": "code",
      "metadata": {
        "colab": {
          "base_uri": "https://localhost:8080/",
          "height": 130
        },
        "id": "qDEqRqON92Bi",
        "outputId": "b7c2e364-d0f4-428e-980c-2427e97c4d16"
      },
      "source": [
        "print(mibin.BS([stock_price,strike_price,interest_rate,expiry],/volatility = iv))"
      ],
      "execution_count": 9,
      "outputs": [
        {
          "output_type": "error",
          "ename": "SyntaxError",
          "evalue": "ignored",
          "traceback": [
            "\u001b[0;36m  File \u001b[0;32m\"<ipython-input-9-de84570d2b1f>\"\u001b[0;36m, line \u001b[0;32m1\u001b[0m\n\u001b[0;31m    print(mibin.BS([stock_price,strike_price,interest_rate,expiry],/volatility = iv))\u001b[0m\n\u001b[0m                                                                   ^\u001b[0m\n\u001b[0;31mSyntaxError\u001b[0m\u001b[0;31m:\u001b[0m invalid syntax\n"
          ]
        }
      ]
    },
    {
      "cell_type": "code",
      "metadata": {
        "colab": {
          "base_uri": "https://localhost:8080/",
          "height": 130
        },
        "id": "mxasPO_l-Jib",
        "outputId": "7f9176af-1e7c-4e5e-887d-4a4853509731"
      },
      "source": [
        "greek = mibin.BS([stock_price,strike_price,interest_rate,expiry],/volatility = iv)\n",
        "\n"
      ],
      "execution_count": 10,
      "outputs": [
        {
          "output_type": "error",
          "ename": "SyntaxError",
          "evalue": "ignored",
          "traceback": [
            "\u001b[0;36m  File \u001b[0;32m\"<ipython-input-10-199b74f8998e>\"\u001b[0;36m, line \u001b[0;32m1\u001b[0m\n\u001b[0;31m    greek = mibin.BS([stock_price,strike_price,interest_rate,expiry],/volatility = iv)\u001b[0m\n\u001b[0m                                                                     ^\u001b[0m\n\u001b[0;31mSyntaxError\u001b[0m\u001b[0;31m:\u001b[0m invalid syntax\n"
          ]
        }
      ]
    },
    {
      "cell_type": "code",
      "metadata": {
        "id": "3m1sDq4J-RbK"
      },
      "source": [
        "greek = mibian.BS([stock_price,strike_price,interest_rate,expiry],iv)"
      ],
      "execution_count": 21,
      "outputs": []
    },
    {
      "cell_type": "code",
      "metadata": {
        "id": "3B5AXn3Z-WiS"
      },
      "source": [
        "import mibian"
      ],
      "execution_count": 16,
      "outputs": []
    },
    {
      "cell_type": "code",
      "metadata": {
        "colab": {
          "base_uri": "https://localhost:8080/"
        },
        "id": "rAs9ouOW-_Lz",
        "outputId": "6ebf94cb-1bd8-4101-9997-0f1450b82f76"
      },
      "source": [
        "print(greek.callPrice)"
      ],
      "execution_count": 22,
      "outputs": [
        {
          "output_type": "stream",
          "name": "stdout",
          "text": [
            "5.3495284111586585\n"
          ]
        }
      ]
    },
    {
      "cell_type": "code",
      "metadata": {
        "colab": {
          "base_uri": "https://localhost:8080/"
        },
        "id": "NOj5TkLf_CYp",
        "outputId": "5d812a36-d26b-4fa6-b798-07fd6af761ac"
      },
      "source": [
        "print()"
      ],
      "execution_count": 23,
      "outputs": [
        {
          "output_type": "stream",
          "name": "stdout",
          "text": [
            "\n"
          ]
        }
      ]
    },
    {
      "cell_type": "code",
      "metadata": {
        "colab": {
          "base_uri": "https://localhost:8080/",
          "height": 311
        },
        "id": "IonTsgkk_vlS",
        "outputId": "fbcb21cf-fc65-4082-87c4-10f200196173"
      },
      "source": [
        "print(tabulate(['delta',greek.callDelta]))"
      ],
      "execution_count": 25,
      "outputs": [
        {
          "output_type": "error",
          "ename": "TypeError",
          "evalue": "ignored",
          "traceback": [
            "\u001b[0;31m---------------------------------------------------------------------------\u001b[0m",
            "\u001b[0;31mTypeError\u001b[0m                                 Traceback (most recent call last)",
            "\u001b[0;32m<ipython-input-25-c5c488036d65>\u001b[0m in \u001b[0;36m<module>\u001b[0;34m()\u001b[0m\n\u001b[0;32m----> 1\u001b[0;31m \u001b[0mprint\u001b[0m\u001b[0;34m(\u001b[0m\u001b[0mtabulate\u001b[0m\u001b[0;34m(\u001b[0m\u001b[0;34m[\u001b[0m\u001b[0;34m'delta'\u001b[0m\u001b[0;34m,\u001b[0m\u001b[0mgreek\u001b[0m\u001b[0;34m.\u001b[0m\u001b[0mcallDelta\u001b[0m\u001b[0;34m]\u001b[0m\u001b[0;34m)\u001b[0m\u001b[0;34m)\u001b[0m\u001b[0;34m\u001b[0m\u001b[0;34m\u001b[0m\u001b[0m\n\u001b[0m",
            "\u001b[0;32m/usr/local/lib/python3.7/dist-packages/tabulate.py\u001b[0m in \u001b[0;36mtabulate\u001b[0;34m(tabular_data, headers, tablefmt, floatfmt, numalign, stralign, missingval, showindex, disable_numparse, colalign)\u001b[0m\n\u001b[1;32m   1527\u001b[0m         \u001b[0mtabular_data\u001b[0m \u001b[0;34m=\u001b[0m \u001b[0;34m[\u001b[0m\u001b[0;34m]\u001b[0m\u001b[0;34m\u001b[0m\u001b[0;34m\u001b[0m\u001b[0m\n\u001b[1;32m   1528\u001b[0m     list_of_lists, headers = _normalize_tabular_data(\n\u001b[0;32m-> 1529\u001b[0;31m         \u001b[0mtabular_data\u001b[0m\u001b[0;34m,\u001b[0m \u001b[0mheaders\u001b[0m\u001b[0;34m,\u001b[0m \u001b[0mshowindex\u001b[0m\u001b[0;34m=\u001b[0m\u001b[0mshowindex\u001b[0m\u001b[0;34m\u001b[0m\u001b[0;34m\u001b[0m\u001b[0m\n\u001b[0m\u001b[1;32m   1530\u001b[0m     )\n\u001b[1;32m   1531\u001b[0m \u001b[0;34m\u001b[0m\u001b[0m\n",
            "\u001b[0;32m/usr/local/lib/python3.7/dist-packages/tabulate.py\u001b[0m in \u001b[0;36m_normalize_tabular_data\u001b[0;34m(tabular_data, headers, showindex)\u001b[0m\n\u001b[1;32m   1189\u001b[0m \u001b[0;34m\u001b[0m\u001b[0m\n\u001b[1;32m   1190\u001b[0m     \u001b[0mheaders\u001b[0m \u001b[0;34m=\u001b[0m \u001b[0mlist\u001b[0m\u001b[0;34m(\u001b[0m\u001b[0mmap\u001b[0m\u001b[0;34m(\u001b[0m\u001b[0m_text_type\u001b[0m\u001b[0;34m,\u001b[0m \u001b[0mheaders\u001b[0m\u001b[0;34m)\u001b[0m\u001b[0;34m)\u001b[0m\u001b[0;34m\u001b[0m\u001b[0;34m\u001b[0m\u001b[0m\n\u001b[0;32m-> 1191\u001b[0;31m     \u001b[0mrows\u001b[0m \u001b[0;34m=\u001b[0m \u001b[0mlist\u001b[0m\u001b[0;34m(\u001b[0m\u001b[0mmap\u001b[0m\u001b[0;34m(\u001b[0m\u001b[0mlist\u001b[0m\u001b[0;34m,\u001b[0m \u001b[0mrows\u001b[0m\u001b[0;34m)\u001b[0m\u001b[0;34m)\u001b[0m\u001b[0;34m\u001b[0m\u001b[0;34m\u001b[0m\u001b[0m\n\u001b[0m\u001b[1;32m   1192\u001b[0m \u001b[0;34m\u001b[0m\u001b[0m\n\u001b[1;32m   1193\u001b[0m     \u001b[0;31m# add or remove an index column\u001b[0m\u001b[0;34m\u001b[0m\u001b[0;34m\u001b[0m\u001b[0;34m\u001b[0m\u001b[0m\n",
            "\u001b[0;31mTypeError\u001b[0m: 'numpy.float64' object is not iterable"
          ]
        }
      ]
    },
    {
      "cell_type": "code",
      "metadata": {
        "colab": {
          "base_uri": "https://localhost:8080/"
        },
        "id": "hB8tIHqY_0l5",
        "outputId": "8228412b-5f2e-46ca-9db7-c9d1760d8882"
      },
      "source": [
        "print(\n",
        "    tabulate([\n",
        "              ['delta',greek.callDelta],\n",
        "              ['call price',greek.callPrice],\n",
        "              ['gamma',greek.gamma]\n",
        "              ])\n",
        ")"
      ],
      "execution_count": 30,
      "outputs": [
        {
          "output_type": "stream",
          "name": "stdout",
          "text": [
            "----------  ---------\n",
            "delta       0.388808\n",
            "call price  5.34953\n",
            "gamma       0.0186143\n",
            "----------  ---------\n"
          ]
        }
      ]
    },
    {
      "cell_type": "code",
      "metadata": {
        "colab": {
          "base_uri": "https://localhost:8080/"
        },
        "id": "ENh8cGmmAHn6",
        "outputId": "56aa2f21-75a9-4c03-a66f-1cf1fff2b461"
      },
      "source": [
        "from tabulate import tabulate\n",
        "import mibian\n",
        "\n",
        "greek = mibian.BS([stock_price,240,10,expiry],80.88)\n",
        "\n",
        "print(\n",
        "    tabulate([\n",
        "              ['delta',greek.callDelta],\n",
        "              ['call price',greek.callPrice],\n",
        "              ['gamma',greek.gamma]\n",
        "              ])\n",
        ")"
      ],
      "execution_count": 36,
      "outputs": [
        {
          "output_type": "stream",
          "name": "stdout",
          "text": [
            "----------  ---------\n",
            "delta       0.257333\n",
            "call price  3.40046\n",
            "gamma       0.0139678\n",
            "----------  ---------\n"
          ]
        }
      ]
    },
    {
      "cell_type": "code",
      "metadata": {
        "id": "tNUdArBhBAYL"
      },
      "source": [
        ""
      ],
      "execution_count": null,
      "outputs": []
    }
  ]
}